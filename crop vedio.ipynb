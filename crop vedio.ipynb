{
 "cells": [
  {
   "cell_type": "code",
   "execution_count": null,
   "id": "77efb85e",
   "metadata": {},
   "outputs": [],
   "source": [
    "import cv2                                 \n",
    "cap = cv2.VideoCapture(r\"D:\\vedio.mp4\")\n"
   ]
  },
  {
   "cell_type": "code",
   "execution_count": null,
   "id": "1dda715a",
   "metadata": {},
   "outputs": [],
   "source": [
    "while True:\n",
    "    _,image = cap.read()\n",
    "    #croping the image --\n",
    "    A = image[50:570 , 120:500]\n",
    "    B = image[300:800 , 200:700]\n",
    "    C = image[150:800 , 190:700]\n",
    "    D = image[300:800 , 300:650]\n",
    "    \n",
    "    cv2.imshow('photo', A)\n",
    "    cv2.imshow('grey', B)\n",
    "    cv2.imshow('abc', C)\n",
    "    cv2.imshow('d', D)\n",
    "    if cv2.waitKey(25) == 13:\n",
    "        break\n",
    "cv2.destroyAllWindows()"
   ]
  },
  {
   "cell_type": "markdown",
   "id": "44c5a338",
   "metadata": {},
   "source": [
    "#   THANK YOU!! "
   ]
  },
  {
   "cell_type": "code",
   "execution_count": null,
   "id": "af08bf36",
   "metadata": {},
   "outputs": [],
   "source": []
  }
 ],
 "metadata": {
  "kernelspec": {
   "display_name": "Python 3",
   "language": "python",
   "name": "python3"
  },
  "language_info": {
   "codemirror_mode": {
    "name": "ipython",
    "version": 3
   },
   "file_extension": ".py",
   "mimetype": "text/x-python",
   "name": "python",
   "nbconvert_exporter": "python",
   "pygments_lexer": "ipython3",
   "version": "3.8.8"
  }
 },
 "nbformat": 4,
 "nbformat_minor": 5
}
